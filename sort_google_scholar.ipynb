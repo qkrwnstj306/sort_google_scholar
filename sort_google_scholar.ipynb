{
 "cells": [
  {
   "cell_type": "code",
   "execution_count": 1,
   "id": "dabe7401",
   "metadata": {},
   "outputs": [
    {
     "name": "stdout",
     "output_type": "stream",
     "text": [
      "--2023-09-04 11:29:14--  https://raw.githubusercontent.com/WittmannF/sort-google-scholar/master/sortgs.py\n",
      "Resolving raw.githubusercontent.com (raw.githubusercontent.com)... 185.199.108.133, 185.199.111.133, 185.199.110.133, ...\n",
      "Connecting to raw.githubusercontent.com (raw.githubusercontent.com)|185.199.108.133|:443... connected.\n",
      "HTTP request sent, awaiting response... 200 OK\n",
      "Length: 10957 (11K) [text/plain]\n",
      "Saving to: ‘sortgs.py’\n",
      "\n",
      "sortgs.py           100%[===================>]  10.70K  --.-KB/s    in 0s      \n",
      "\n",
      "2023-09-04 11:29:14 (21.8 MB/s) - ‘sortgs.py’ saved [10957/10957]\n",
      "\n"
     ]
    }
   ],
   "source": [
    "!wget https://raw.githubusercontent.com/WittmannF/sort-google-scholar/master/sortgs.py"
   ]
  },
  {
   "cell_type": "markdown",
   "id": "e38be745",
   "metadata": {},
   "source": [
    "[-h] : help\n",
    "\n",
    "[--kw] : \"machine learning\"\n",
    "\n",
    "[--sort by] : default(Citations), \"cit/year\"\n",
    "\n",
    "[--nresults] : default 100, 몇 개 가져올건지\n",
    "\n",
    "[--csvpath] : default ./\n",
    "\n",
    "[--notsavescv] : not save\n"
   ]
  },
  {
   "cell_type": "code",
   "execution_count": 2,
   "id": "779a3be4",
   "metadata": {},
   "outputs": [
    {
     "name": "stdout",
     "output_type": "stream",
     "text": [
      "Loading next 10 results\n",
      "Loading next 20 results\n",
      "Loading next 30 results\n",
      "Loading next 40 results\n",
      "Loading next 50 results\n",
      "Loading next 60 results\n",
      "Loading next 70 results\n",
      "Loading next 80 results\n",
      "Loading next 90 results\n",
      "Loading next 100 results\n",
      "                                    Author  ... cit/year\n",
      "Rank                                        ...         \n",
      "69                                  Bengio  ...      786\n",
      "53                                  Bengio  ...      140\n",
      "32                     Huang, R Mo, C Yuen  ...      135\n",
      "12                                      Yu  ...        0\n",
      "13              Toğaçar, B Ergen, Z Cömert  ...      125\n",
      "...                                    ...  ...      ...\n",
      "80                 Gould, D Campbell, I Be  ...        4\n",
      "8     Vanavermaete, J Fostier, S Maenhout…  ...        2\n",
      "21         Vo, E Abbasnejad, DC Ranasinghe  ...        1\n",
      "16               Sun, L Han, R Yang, X Ma…  ...        2\n",
      "98        Wu, L Zhao, D Li, CW Xie, S Sun…  ...        0\n",
      "\n",
      "[100 rows x 8 columns]\n"
     ]
    }
   ],
   "source": [
    "!python sortgs.py --kw \"deep exploit\""
   ]
  },
  {
   "cell_type": "code",
   "execution_count": null,
   "id": "c0d4ee1a",
   "metadata": {},
   "outputs": [],
   "source": []
  }
 ],
 "metadata": {
  "kernelspec": {
   "display_name": "pytorch",
   "language": "python",
   "name": "pytorch"
  },
  "language_info": {
   "codemirror_mode": {
    "name": "ipython",
    "version": 3
   },
   "file_extension": ".py",
   "mimetype": "text/x-python",
   "name": "python",
   "nbconvert_exporter": "python",
   "pygments_lexer": "ipython3",
   "version": "3.8.1"
  }
 },
 "nbformat": 4,
 "nbformat_minor": 5
}
